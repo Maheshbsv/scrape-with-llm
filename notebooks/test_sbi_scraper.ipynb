{
 "cells": [
  {
   "cell_type": "markdown",
   "id": "85f0d07b",
   "metadata": {},
   "source": [
    "# Testing SBI Tender Scraping\n",
    "\n",
    "This notebook breaks down the SBI tender scraping process into steps for testing and development. We'll test:\n",
    "1. Playwright setup and browser initialization\n",
    "2. Page navigation and table extraction\n",
    "3. Data parsing and transformation"
   ]
  },
  {
   "cell_type": "code",
   "execution_count": null,
   "id": "2d893bdc",
   "metadata": {},
   "outputs": [],
   "source": [
    "import asyncio\n",
    "import sys\n",
    "from pathlib import Path\n",
    "\n",
    "# Add project root to path\n",
    "project_root = str(Path.cwd().parent)\n",
    "if project_root not in sys.path:\n",
    "    sys.path.append(project_root)\n",
    "\n",
    "from app.scrapers.table_scraper import TableScraper\n",
    "from app.scrapers.playwright_manager import PlaywrightManager"
   ]
  },
  {
   "cell_type": "markdown",
   "id": "0305f54c",
   "metadata": {},
   "source": [
    "## Source Configuration\n",
    "\n",
    "Define the configuration for the SBI tender page scraping:"
   ]
  },
  {
   "cell_type": "code",
   "execution_count": null,
   "id": "1821e457",
   "metadata": {},
   "outputs": [],
   "source": [
    "# Configure source\n",
    "source_config = {\n",
    "    'id': 1,\n",
    "    'psu_name': 'SBI',\n",
    "    'base_url': 'https://sbi.co.in/web/sbi-in-the-news/empanelment-of-vendors',\n",
    "    'page_type': 'table',\n",
    "    'scrape_frequency_hours': 24,\n",
    "    'active': True,\n",
    "    'table_selector': '#procurement > table',\n",
    "    'header_mapping': {\n",
    "        'tender description': 'title',\n",
    "        'location': 'location',\n",
    "        'start date': 'start_date',\n",
    "        'end date': 'end_date'\n",
    "    }\n",
    "}"
   ]
  },
  {
   "cell_type": "markdown",
   "id": "f5065d4b",
   "metadata": {},
   "source": [
    "## Browser Initialization\n",
    "\n",
    "Test initializing the Playwright browser:"
   ]
  },
  {
   "cell_type": "code",
   "execution_count": null,
   "id": "43e2d573",
   "metadata": {},
   "outputs": [],
   "source": [
    "# Test browser initialization\n",
    "async def test_browser_init():\n",
    "    browser_manager = PlaywrightManager()\n",
    "    await browser_manager.initialize()\n",
    "    return browser_manager\n",
    "\n",
    "# Run initialization\n",
    "browser_manager = await test_browser_init()\n",
    "print('Browser initialized successfully')"
   ]
  },
  {
   "cell_type": "markdown",
   "id": "eb8cf9d0",
   "metadata": {},
   "source": [
    "## Page Navigation\n",
    "\n",
    "Test navigating to the SBI tenders page:"
   ]
  },
  {
   "cell_type": "code",
   "execution_count": null,
   "id": "63bcb639",
   "metadata": {},
   "outputs": [],
   "source": [
    "# Test page navigation\n",
    "async def test_navigation(browser_manager):\n",
    "    async with browser_manager.get_context() as context:\n",
    "        # Create new page\n",
    "        page = await context.new_page()\n",
    "        \n",
    "        # Navigate to URL\n",
    "        success = await PlaywrightManager.navigate_with_retry(\n",
    "            page,\n",
    "            source_config['base_url'],\n",
    "            max_retries=3\n",
    "        )\n",
    "        return page if success else None\n",
    "\n",
    "# Navigate to page\n",
    "page = await test_navigation(browser_manager)\n",
    "if page:\n",
    "    print('Navigation successful')\n",
    "else:\n",
    "    print('Navigation failed')"
   ]
  },
  {
   "cell_type": "markdown",
   "id": "f702c6a1",
   "metadata": {},
   "source": [
    "## Data Extraction\n",
    "\n",
    "Test extracting tender data from the table:"
   ]
  },
  {
   "cell_type": "code",
   "execution_count": null,
   "id": "84a2e423",
   "metadata": {},
   "outputs": [],
   "source": [
    "# Test table extraction\n",
    "async def test_extraction(page):\n",
    "    scraper = TableScraper(source_config)\n",
    "    result = await scraper.extract_notifications(page)\n",
    "    return result\n",
    "\n",
    "# Extract data\n",
    "if page:\n",
    "    result = await test_extraction(page)\n",
    "    if result.success:\n",
    "        print(f'Found {len(result.notifications)} notifications:')\n",
    "        for notif in result.notifications[:3]:  # Show first 3 notifications\n",
    "            print(f\"\\n- Title: {notif['title']}\")\n",
    "            print(f\"  Location: {notif.get('location')}\")\n",
    "            print(f\"  Start Date: {notif.get('start_date')}\")\n",
    "            print(f\"  End Date: {notif.get('end_date')}\")\n",
    "    else:\n",
    "        print(f'Error: {result.error_message}')"
   ]
  },
  {
   "cell_type": "markdown",
   "id": "8921124b",
   "metadata": {},
   "source": [
    "## Cleanup\n",
    "\n",
    "Clean up browser resources:"
   ]
  },
  {
   "cell_type": "code",
   "execution_count": null,
   "id": "fdfdd1c3",
   "metadata": {},
   "outputs": [],
   "source": [
    "# Cleanup\n",
    "await browser_manager.cleanup()\n",
    "print('Browser cleaned up')"
   ]
  }
 ],
 "metadata": {
  "language_info": {
   "name": "python"
  }
 },
 "nbformat": 4,
 "nbformat_minor": 5
}
